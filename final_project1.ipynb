{
 "cells": [
  {
   "cell_type": "markdown",
   "source": [
    "<span style=\"font-family:Comic Sans MS; color:orange; font-size:30px\">Import required library</span>"
   ],
   "metadata": {
    "collapsed": false
   }
  },
  {
   "cell_type": "code",
   "execution_count": 2,
   "metadata": {
    "collapsed": true,
    "ExecuteTime": {
     "end_time": "2023-07-02T17:01:44.053994800Z",
     "start_time": "2023-07-02T17:01:44.053490Z"
    }
   },
   "outputs": [],
   "source": [
    "import pandas as pd\n",
    "import matplotlib.pyplot as plt\n",
    "import seaborn as sns\n",
    "from IPython.display import display"
   ]
  },
  {
   "cell_type": "markdown",
   "source": [
    "<span style=\"font-family:Comic Sans MS; color:orange; font-size:30px\">Read data</span>"
   ],
   "metadata": {
    "collapsed": false
   }
  },
  {
   "cell_type": "code",
   "execution_count": 3,
   "outputs": [],
   "source": [
    "df = pd.DataFrame(pd.read_csv('stock_market_data.csv'))\n",
    "df['Date'] = pd.to_datetime(df['Date'])"
   ],
   "metadata": {
    "collapsed": false,
    "pycharm": {
     "is_executing": true
    },
    "ExecuteTime": {
     "end_time": "2023-07-02T17:01:44.998057200Z",
     "start_time": "2023-07-02T17:01:44.954627500Z"
    }
   }
  },
  {
   "cell_type": "markdown",
   "source": [
    "<span style=\"font-family:Comic Sans MS; color:orange; font-size:30px\">Create user</span>"
   ],
   "metadata": {
    "collapsed": false
   }
  },
  {
   "cell_type": "code",
   "execution_count": 4,
   "outputs": [],
   "source": [
    "class User:\n",
    "    def __init__(self, name, ID, birthDate, balance):\n",
    "        self.name = name\n",
    "        self.ID = ID\n",
    "        self.birthDate = birthDate\n",
    "        self.balance = balance"
   ],
   "metadata": {
    "collapsed": false,
    "ExecuteTime": {
     "end_time": "2023-07-02T17:01:45.944898300Z",
     "start_time": "2023-07-02T17:01:45.940933800Z"
    }
   }
  },
  {
   "cell_type": "markdown",
   "source": [
    "\n",
    "<span style=\"font-family:Comic Sans MS; color:orange; font-size:30px\">1. Buy shares</span>"
   ],
   "metadata": {
    "collapsed": false
   }
  },
  {
   "cell_type": "code",
   "execution_count": 5,
   "outputs": [],
   "source": [
    "\n",
    "def buy_share(date, symbol, volume):\n",
    "\n",
    "    ### finding your share\n",
    "    new_df = df[(df['Symbol'] == symbol) & (df['Date'] == date)]\n",
    "    ######################\n",
    "\n",
    "    ### balance is not enough\n",
    "    if user.balance < new_df['Open'].values[0] * volume:\n",
    "        print(\"your balance is not enough! Try again.\")\n",
    "    ### we are rich!!!\n",
    "    else:\n",
    "        user.balance -= new_df['Open'].values[0] * volume"
   ],
   "metadata": {
    "collapsed": false,
    "ExecuteTime": {
     "end_time": "2023-07-02T17:01:46.966908Z",
     "start_time": "2023-07-02T17:01:46.925418700Z"
    }
   }
  },
  {
   "cell_type": "markdown",
   "source": [
    "<span style=\"font-family:Comic Sans MS; color:orange; font-size:30px\">2. Sell shares</span>"
   ],
   "metadata": {
    "collapsed": false
   }
  },
  {
   "cell_type": "code",
   "execution_count": 6,
   "outputs": [],
   "source": [
    "def sell_share(date, symbol, volume):\n",
    "    ### finding your share\n",
    "    share = my_df[(my_df['Symbol'] == symbol)]\n",
    "    share_date = df[(df['Symbol'] == symbol) & (df['Date'] == date)]\n",
    "    ######################\n",
    "\n",
    "    if int(volume) == share['Volume'].values[0]: ### selling whole of the volume\n",
    "        my_df.drop(share.index, inplace= True)\n",
    "        my_df.reset_index(inplace= True, drop= True)\n",
    "\n",
    "    elif int(volume) < share['Volume'].values[0]: ### selling a part of the volume\n",
    "        my_df.loc[share.index, 'Volume'] = my_df.iloc[share.index]['Volume'].values[0] - int(volume)\n",
    "\n",
    "     ### adding price of share into balance:\n",
    "    user.balance += (df.iloc[share_date.index]['Open'].values[0]) * int(volume)"
   ],
   "metadata": {
    "collapsed": false,
    "ExecuteTime": {
     "end_time": "2023-07-02T17:01:47.935028800Z",
     "start_time": "2023-07-02T17:01:47.934523Z"
    }
   }
  },
  {
   "cell_type": "markdown",
   "source": [
    "<span style=\"font-family:Comic Sans MS; color:orange; font-size:30px\"> 3. Available shares with their price change percentage</span>"
   ],
   "metadata": {
    "collapsed": false
   }
  },
  {
   "cell_type": "code",
   "execution_count": 7,
   "outputs": [],
   "source": [
    "def shares_price_change_percentage(first_date, second_date):\n",
    "    sort_shares = {}\n",
    "    for symbol in df['Symbol'].unique():\n",
    "        df1 = df[(df['Symbol'] == symbol) & (df['Date'] == first_date)]\n",
    "        df2 = df[(df['Symbol'] == symbol) & (df['Date'] == second_date)]\n",
    "        change_percentage = float(((df2['Open'].values[0] - df1['Open'].values[0]) / df1['Open'].values[0]) * 100)\n",
    "        change_percentage = \"{:.2f}\".format(change_percentage)\n",
    "        sort_shares[symbol] = float(change_percentage)\n",
    "\n",
    "    sort_shares = sorted(sort_shares.items(), key=lambda kv:(kv[1], kv[0]), reverse=True)\n",
    "    for i in range(len(sort_shares)):\n",
    "        print(f\"{sort_shares[i][0]} : {sort_shares[i][1]}\")"
   ],
   "metadata": {
    "collapsed": false,
    "ExecuteTime": {
     "end_time": "2023-07-02T17:01:48.830621600Z",
     "start_time": "2023-07-02T17:01:48.828648700Z"
    }
   }
  },
  {
   "cell_type": "markdown",
   "source": [
    "<span style=\"font-family:Comic Sans MS; color:orange; font-size:30px\">4. View the bought shares and the total value of your shares</span>\n"
   ],
   "metadata": {
    "collapsed": false
   }
  },
  {
   "cell_type": "code",
   "execution_count": 8,
   "outputs": [],
   "source": [
    "def total_value_of_shares(date):\n",
    "    for i in range(len(my_df)):\n",
    "        new_df = df[(df['Symbol'] == my_df.iloc[i]['Symbol']) & (df['Date'] == date)]\n",
    "        value = \"{:.3f}\".format(my_df.iloc[i]['Volume'] * new_df['Open'].values[0])\n",
    "        print(f\"{my_df.iloc[i]['Symbol']} value : {value}\")\n",
    "    display(my_df)"
   ],
   "metadata": {
    "collapsed": false,
    "ExecuteTime": {
     "end_time": "2023-07-02T17:01:49.742558800Z",
     "start_time": "2023-07-02T17:01:49.740446Z"
    }
   }
  },
  {
   "cell_type": "markdown",
   "source": [
    "<span style=\"font-family:Comic Sans MS; color:orange; font-size:30px\">5. View the share price chart</span>\n"
   ],
   "metadata": {
    "collapsed": false
   }
  },
  {
   "cell_type": "code",
   "execution_count": 9,
   "outputs": [],
   "source": [
    "def share_price_chart(symbol):\n",
    "    _df = df[(df['Symbol'] == symbol)]\n",
    "    x = _df['Date']\n",
    "    y = _df['Open']\n",
    "    z = _df['Volume']\n",
    "\n",
    "    ### according to Open\n",
    "    plt.plot(x, y, 'r')\n",
    "    plt.xlabel(\"Date\", color= 'red')\n",
    "    plt.ylabel(\"Open\", color= 'red')\n",
    "    plt.show()\n",
    "\n",
    "    ### according to Volume\n",
    "    plt.plot(x, z, 'y')\n",
    "    plt.xlabel(\"Date\", color= 'yellow')\n",
    "    plt.ylabel(\"Volume\", color= 'yellow')\n",
    "    plt.show()"
   ],
   "metadata": {
    "collapsed": false,
    "ExecuteTime": {
     "end_time": "2023-07-02T17:01:50.746774100Z",
     "start_time": "2023-07-02T17:01:50.746268700Z"
    }
   }
  },
  {
   "cell_type": "markdown",
   "source": [
    "<span style=\"font-family:Comic Sans MS; color:orange; font-size:30px\">6. View the general trend of price changes using linear regression</span>\n"
   ],
   "metadata": {
    "collapsed": false
   }
  },
  {
   "cell_type": "code",
   "execution_count": 10,
   "outputs": [],
   "source": [
    "def linear_regression():\n",
    "    df['num_date'] = df['Date'].astype('int64')\n",
    "    sns.regplot(data= df, x = 'num_date', y = 'Open', color= 'blue')"
   ],
   "metadata": {
    "collapsed": false,
    "ExecuteTime": {
     "end_time": "2023-07-02T17:01:51.893242700Z",
     "start_time": "2023-07-02T17:01:51.877498400Z"
    }
   }
  },
  {
   "cell_type": "markdown",
   "source": [
    "<span style=\"font-family:Comic Sans MS; color:orange; font-size:30px\">MENU</span>\n"
   ],
   "metadata": {
    "collapsed": false
   }
  },
  {
   "cell_type": "code",
   "execution_count": 13,
   "outputs": [
    {
     "ename": "ValueError",
     "evalue": "invalid literal for int() with base 10: ''",
     "output_type": "error",
     "traceback": [
      "\u001B[1;31m---------------------------------------------------------------------------\u001B[0m",
      "\u001B[1;31mValueError\u001B[0m                                Traceback (most recent call last)",
      "Cell \u001B[1;32mIn[13], line 5\u001B[0m\n\u001B[0;32m      3\u001B[0m ID \u001B[38;5;241m=\u001B[39m \u001B[38;5;28minput\u001B[39m(\u001B[38;5;124m\"\u001B[39m\u001B[38;5;124mEnter your ID: \u001B[39m\u001B[38;5;124m\"\u001B[39m)\n\u001B[0;32m      4\u001B[0m birthDate \u001B[38;5;241m=\u001B[39m \u001B[38;5;28minput\u001B[39m(\u001B[38;5;124m\"\u001B[39m\u001B[38;5;124mEnter your birthday date: \u001B[39m\u001B[38;5;124m\"\u001B[39m)\n\u001B[1;32m----> 5\u001B[0m balance \u001B[38;5;241m=\u001B[39m \u001B[38;5;28;43mint\u001B[39;49m\u001B[43m(\u001B[49m\u001B[38;5;28;43minput\u001B[39;49m\u001B[43m(\u001B[49m\u001B[38;5;124;43m\"\u001B[39;49m\u001B[38;5;124;43mEnter your balance: \u001B[39;49m\u001B[38;5;124;43m\"\u001B[39;49m\u001B[43m)\u001B[49m\u001B[43m)\u001B[49m\n\u001B[0;32m      6\u001B[0m user \u001B[38;5;241m=\u001B[39m User(name, ID, birthDate, balance)\n\u001B[0;32m      7\u001B[0m my_df \u001B[38;5;241m=\u001B[39m pd\u001B[38;5;241m.\u001B[39mDataFrame(columns\u001B[38;5;241m=\u001B[39m[\u001B[38;5;124m'\u001B[39m\u001B[38;5;124mSymbol\u001B[39m\u001B[38;5;124m'\u001B[39m, \u001B[38;5;124m'\u001B[39m\u001B[38;5;124mVolume\u001B[39m\u001B[38;5;124m'\u001B[39m])\n",
      "\u001B[1;31mValueError\u001B[0m: invalid literal for int() with base 10: ''"
     ]
    }
   ],
   "source": [
    "### create account\n",
    "name = input(\"Enter your name: \")\n",
    "ID = input(\"Enter your ID: \")\n",
    "birthDate = input(\"Enter your birthday date: \")\n",
    "balance = int(input(\"Enter your balance: \"))\n",
    "user = User(name, ID, birthDate, balance)\n",
    "my_df = pd.DataFrame(columns=['Symbol', 'Volume'])\n",
    "\n",
    "while True:\n",
    "    choice = int(input(\"Choose one of the options:  \"\n",
    "                       \"\\n 1. Buy share\"\n",
    "                        \"\\n 2. Sell share\"\n",
    "                        \"\\n 3. View available shares with their price change percentage\"\n",
    "                        \"\\n 4. View the bought shares and the total value of your shares\"\n",
    "                        \"\\n 5. View the share price chart\"\n",
    "                        \"\\n 6. View the general trend of price changes using linear regression\"\n",
    "                        \"\\n 7. Exit\"))\n",
    "\n",
    "    if choice == 1: ### buy shares\n",
    "        date = input(\"What date do you want to buy share? \")\n",
    "        symbol = input(\"Which company's shares do you want? \")\n",
    "        volume = int(input(\"How many stocks do you want? \"))\n",
    "        buy_share(date, symbol, volume)\n",
    "        my_df.loc[len(my_df)] = [symbol, volume]\n",
    "\n",
    "    elif choice == 2: ### sell shares\n",
    "        date = input(\"What date do you want to sell your share? \")\n",
    "        symbol = input(\"Which company's shares?\")\n",
    "        volume = int(input(\"How many stocks do you want to sell?\"))\n",
    "        sell_share(date, symbol, volume)\n",
    "\n",
    "    elif choice == 3: ### View available shares with their price change percentage\n",
    "        date1 = input(\"Enter first date: \")\n",
    "        date2 = input(\"Enter second date: \")\n",
    "        shares_price_change_percentage(date1, date2)\n",
    "\n",
    "    elif choice == 4: ### View the bought shares and the total value of your shares\n",
    "        date = input(\"Enter date: \")\n",
    "        total_value_of_shares(date)\n",
    "\n",
    "    elif choice == 5: ### View the share price chart\n",
    "        symbol = input(\"Which company's share chart do you want to see? \")\n",
    "        share_price_chart(symbol)\n",
    "    elif choice == 6: ### View the general trend of price changes using linear regression\n",
    "        linear_regression()\n",
    "    elif choice == 7: ### Exit\n",
    "        break"
   ],
   "metadata": {
    "collapsed": false,
    "ExecuteTime": {
     "end_time": "2023-07-02T17:03:52.291811900Z",
     "start_time": "2023-07-02T17:03:48.402173600Z"
    }
   }
  }
 ],
 "metadata": {
  "kernelspec": {
   "display_name": "Python 3",
   "language": "python",
   "name": "python3"
  },
  "language_info": {
   "codemirror_mode": {
    "name": "ipython",
    "version": 2
   },
   "file_extension": ".py",
   "mimetype": "text/x-python",
   "name": "python",
   "nbconvert_exporter": "python",
   "pygments_lexer": "ipython2",
   "version": "2.7.6"
  }
 },
 "nbformat": 4,
 "nbformat_minor": 0
}
