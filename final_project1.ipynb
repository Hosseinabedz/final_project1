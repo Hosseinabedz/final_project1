{
 "cells": [
  {
   "cell_type": "markdown",
   "source": [
    "### import"
   ],
   "metadata": {
    "collapsed": false
   }
  },
  {
   "cell_type": "code",
   "execution_count": 16,
   "metadata": {
    "collapsed": true
   },
   "outputs": [],
   "source": [
    "import pandas as pd\n",
    "import numpy as np\n",
    "import matplotlib.pyplot as plt"
   ]
  },
  {
   "cell_type": "markdown",
   "source": [
    "### read data"
   ],
   "metadata": {
    "collapsed": false
   }
  },
  {
   "cell_type": "code",
   "execution_count": null,
   "outputs": [],
   "source": [
    "df = pd.DataFrame(pd.read_csv('stock_market_data.csv'))\n",
    "df"
   ],
   "metadata": {
    "collapsed": false,
    "pycharm": {
     "is_executing": true
    }
   }
  },
  {
   "cell_type": "markdown",
   "source": [
    "### class and methods"
   ],
   "metadata": {
    "collapsed": false
   }
  },
  {
   "cell_type": "code",
   "execution_count": 25,
   "outputs": [],
   "source": [
    " class User:\n",
    "    def __init__(self, name, ID, birthDate, balance):\n",
    "        self.name = name\n",
    "        self.ID = ID\n",
    "        self.birthDate = birthDate\n",
    "        self.balance = balance"
   ],
   "metadata": {
    "collapsed": false
   }
  },
  {
   "cell_type": "markdown",
   "source": [
    "### 1. buy share"
   ],
   "metadata": {
    "collapsed": false
   }
  },
  {
   "cell_type": "code",
   "execution_count": null,
   "outputs": [],
   "source": [
    "def buy_share(Date, Symbol, Open, Volume):\n",
    "    ### finding your share\n",
    "    new_df = df[(df['Symbol'] == Symbol) & (df['Date'] == Date)]\n",
    "    ######################\n",
    "    while True:\n",
    "        ### balance is not enough\n",
    "        if user.balance < new_df['Open'] * Volume:\n",
    "            print(\"your balance is not enough! Try again.\")\n",
    "        ### we are rich!!!\n",
    "        else:\n",
    "            my_df = pd.DataFrame(columns=['Symbol', 'Open', 'Volume'])\n",
    "            my_df = pd.concat([my_df, pd.DataFrame([[Symbol, Open, Volume]], columns=['Symbol','Open', 'Volume'])], ignore_index=True)\n",
    "            user.balance -= new_df['Open'] * Volume\n",
    "            break"
   ],
   "metadata": {
    "collapsed": false
   }
  },
  {
   "cell_type": "markdown",
   "source": [
    "### 2. sell share"
   ],
   "metadata": {
    "collapsed": false
   }
  },
  {
   "cell_type": "code",
   "execution_count": 29,
   "outputs": [],
   "source": [
    "def sell_share(Date, Symbol, Volume):\n",
    "    ### finding your share\n",
    "    share = my_df[(my_df['Symbol'] == Symbol)]\n",
    "    share_date = df[(df['Symbol'] == Symbol) & df['Date'] == Date]\n",
    "\n",
    "    if Volume == share['Volume'].values[0]: ### selling whole of the volume\n",
    "        my_df.drop(share.index, inplace= True)\n",
    "        my_df.reset_index()\n",
    "\n",
    "    elif Volume < share['Volume'].values[0]: ### selling a part of the volume\n",
    "        my_df.iloc[share.index][\"Volume\"] -= Volume\n",
    "\n",
    "     ### adding price of share into balance:\n",
    "    user.balance += (df.iloc[share_date.index]['Open']) * Volume"
   ],
   "metadata": {
    "collapsed": false
   }
  },
  {
   "cell_type": "markdown",
   "source": [
    "### menu"
   ],
   "metadata": {
    "collapsed": false
   }
  },
  {
   "cell_type": "code",
   "execution_count": null,
   "outputs": [],
   "source": [
    "#create account\n",
    "name, ID, birthDate, balance = input().split()\n",
    "balance = int(balance)\n",
    "user = User(name, ID, birthDate, balance)\n",
    "my_df = pd.DataFrame()\n",
    "\n",
    "# buying share and how many share do you want to buy\n",
    "Date, Symbol, Open, Volume = input().split()\n",
    "Open = int(Open)\n",
    "Volume = int(Volume)\n",
    "buy_share(Date, Symbol, Open, Volume)\n",
    "\n",
    "# selling share and how many share do you want to sell\n",
    "Date, Symbol, Open, Volume = input().split()\n",
    "Open = int(Open)\n",
    "Volume = int(Volume)\n",
    "sell_share(Date, Symbol, Open, Volume)"
   ],
   "metadata": {
    "collapsed": false
   }
  }
 ],
 "metadata": {
  "kernelspec": {
   "display_name": "Python 3",
   "language": "python",
   "name": "python3"
  },
  "language_info": {
   "codemirror_mode": {
    "name": "ipython",
    "version": 2
   },
   "file_extension": ".py",
   "mimetype": "text/x-python",
   "name": "python",
   "nbconvert_exporter": "python",
   "pygments_lexer": "ipython2",
   "version": "2.7.6"
  }
 },
 "nbformat": 4,
 "nbformat_minor": 0
}
